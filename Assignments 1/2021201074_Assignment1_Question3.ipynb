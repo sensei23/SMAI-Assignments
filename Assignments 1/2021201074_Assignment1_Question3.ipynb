{
  "cells": [
    {
      "cell_type": "markdown",
      "id": "02c54141",
      "metadata": {
        "id": "02c54141"
      },
      "source": [
        "## Spam Email Classifier with KNN using TF-IDF scores"
      ]
    },
    {
      "cell_type": "markdown",
      "id": "1c17102e",
      "metadata": {
        "id": "1c17102e"
      },
      "source": [
        "1.   Assignment must be implemented in Python 3 only.\n",
        "2.   You are allowed to use libraries for data preprocessing (numpy, pandas, nltk etc) and for evaluation metrics, data visualization (matplotlib etc.).\n",
        "3.   You will be evaluated not just on the overall performance of the model and also on the experimentation with hyper parameters, data prepossessing techniques etc.\n",
        "4.   The report file must be a well documented jupyter notebook, explaining the experiments you have performed, evaluation metrics and corresponding code. The code must run and be able to reproduce the accuracies, figures/graphs etc.\n",
        "5.   For all the questions, you must create a train-validation data split and test the hyperparameter tuning on the validation set. Your jupyter notebook must reflect the same.\n",
        "6.   Strict plagiarism checking will be done. An F will be awarded for plagiarism."
      ]
    },
    {
      "cell_type": "markdown",
      "id": "0d34a310",
      "metadata": {
        "id": "0d34a310"
      },
      "source": [
        "**Task: Given an email, classify it as spam or ham**\n",
        "\n",
        "Given input text file (\"emails.txt\") containing 5572 email messages, with each row having its corresponding label (spam/ham) attached to it.\n",
        "\n",
        "This task also requires basic pre-processing of text (like removing stopwords, stemming/lemmatizing, replacing email_address with 'email-tag', etc..).\n",
        "\n",
        "You are required to find the tf-idf scores for the given data and use them to perform KNN using Cosine Similarity."
      ]
    },
    {
      "cell_type": "markdown",
      "id": "b0c87696",
      "metadata": {
        "id": "b0c87696"
      },
      "source": [
        "### Import necessary libraries"
      ]
    },
    {
      "cell_type": "code",
      "execution_count": 1,
      "id": "3d5a1fe2",
      "metadata": {
        "id": "3d5a1fe2"
      },
      "outputs": [],
      "source": [
        "import pandas as pd\n",
        "import numpy as npy\n",
        "import nltk"
      ]
    },
    {
      "cell_type": "code",
      "execution_count": 2,
      "id": "86447ff7",
      "metadata": {
        "colab": {
          "base_uri": "https://localhost:8080/"
        },
        "id": "86447ff7",
        "outputId": "2f6017c6-7c90-4c1d-be0c-0f51fad6455f"
      },
      "outputs": [
        {
          "output_type": "stream",
          "name": "stdout",
          "text": [
            "[nltk_data] Downloading package punkt to /root/nltk_data...\n",
            "[nltk_data]   Unzipping tokenizers/punkt.zip.\n",
            "[nltk_data] Downloading package stopwords to /root/nltk_data...\n",
            "[nltk_data]   Unzipping corpora/stopwords.zip.\n",
            "[nltk_data] Downloading package wordnet to /root/nltk_data...\n",
            "[nltk_data]   Unzipping corpora/wordnet.zip.\n"
          ]
        },
        {
          "output_type": "execute_result",
          "data": {
            "text/plain": [
              "True"
            ]
          },
          "metadata": {},
          "execution_count": 2
        }
      ],
      "source": [
        "nltk.download('punkt')\n",
        "nltk.download('stopwords')\n",
        "nltk.download('wordnet')"
      ]
    },
    {
      "cell_type": "markdown",
      "id": "7aef4dff",
      "metadata": {
        "id": "7aef4dff"
      },
      "source": [
        "### Load dataset"
      ]
    },
    {
      "cell_type": "code",
      "execution_count": 3,
      "id": "f178f892",
      "metadata": {
        "id": "f178f892"
      },
      "outputs": [],
      "source": [
        "df = pd.read_csv('emails.txt', delimiter='\\t', header=None)\n",
        "df.columns = ['category', 'content']"
      ]
    },
    {
      "cell_type": "code",
      "execution_count": 4,
      "id": "482e125e",
      "metadata": {
        "colab": {
          "base_uri": "https://localhost:8080/"
        },
        "id": "482e125e",
        "outputId": "4f85aac4-219a-41a8-f81c-aadd71b0a705"
      },
      "outputs": [
        {
          "output_type": "execute_result",
          "data": {
            "text/plain": [
              "(5572, 2)"
            ]
          },
          "metadata": {},
          "execution_count": 4
        }
      ],
      "source": [
        "df.shape"
      ]
    },
    {
      "cell_type": "code",
      "execution_count": 5,
      "id": "bb31d38f",
      "metadata": {
        "id": "bb31d38f"
      },
      "outputs": [],
      "source": [
        "total_emails = df.shape[0]"
      ]
    },
    {
      "cell_type": "code",
      "execution_count": 6,
      "id": "a055e121",
      "metadata": {
        "id": "a055e121"
      },
      "outputs": [],
      "source": [
        "from nltk.corpus import stopwords\n",
        "stop_words=set(stopwords.words(\"english\"))"
      ]
    },
    {
      "cell_type": "code",
      "execution_count": 7,
      "id": "4ec91672",
      "metadata": {
        "id": "4ec91672"
      },
      "outputs": [],
      "source": [
        "# df.iat[0,1]"
      ]
    },
    {
      "cell_type": "markdown",
      "id": "cd1ef5ba",
      "metadata": {
        "id": "cd1ef5ba"
      },
      "source": [
        "### Preprocess data"
      ]
    },
    {
      "cell_type": "code",
      "execution_count": 8,
      "id": "fd1733d7",
      "metadata": {
        "id": "fd1733d7"
      },
      "outputs": [],
      "source": [
        "from nltk.tokenize import sent_tokenize\n",
        "from nltk.stem.wordnet import WordNetLemmatizer\n",
        "from string import punctuation as pun\n",
        "lem = WordNetLemmatizer()"
      ]
    },
    {
      "cell_type": "code",
      "execution_count": 9,
      "id": "dc9f1eec",
      "metadata": {
        "id": "dc9f1eec"
      },
      "outputs": [],
      "source": [
        "def preprocess(email_content):\n",
        "    new_content = []\n",
        "    for content_word in email_content.lower().split():                #spliting all words of the email string\n",
        "        for word in sent_tokenize(content_word):               #tokenizing the word further\n",
        "            word = word.translate(str.maketrans('', '', pun))  #removing punctuations\n",
        "            word = lem.lemmatize(word)                         #lemmatization to get word lemma\n",
        "            if word not in stop_words:\n",
        "                new_content.append(word)\n",
        "    return ' '.join(new_content)"
      ]
    },
    {
      "cell_type": "code",
      "execution_count": 10,
      "id": "b48e5f0c",
      "metadata": {
        "id": "b48e5f0c"
      },
      "outputs": [],
      "source": [
        "df['content'] = df['content'].apply(lambda x: preprocess(x))"
      ]
    },
    {
      "cell_type": "code",
      "execution_count": 11,
      "id": "f9f4665d",
      "metadata": {
        "id": "f9f4665d"
      },
      "outputs": [],
      "source": [
        "# df['category'].value_counts()"
      ]
    },
    {
      "cell_type": "markdown",
      "id": "f76767a7",
      "metadata": {
        "id": "f76767a7"
      },
      "source": [
        "### Split data"
      ]
    },
    {
      "cell_type": "code",
      "execution_count": 12,
      "id": "f75e6cd2",
      "metadata": {
        "id": "f75e6cd2"
      },
      "outputs": [],
      "source": [
        "from sklearn.model_selection import train_test_split\n",
        "train_df, test_df = train_test_split(df, test_size=0.20, random_state=2)"
      ]
    },
    {
      "cell_type": "code",
      "execution_count": 13,
      "id": "0bb24e07",
      "metadata": {
        "id": "0bb24e07"
      },
      "outputs": [],
      "source": [
        "# train_df"
      ]
    },
    {
      "cell_type": "markdown",
      "id": "bbc70aa6",
      "metadata": {
        "id": "bbc70aa6"
      },
      "source": [
        "TF-IDF_Vectorization"
      ]
    },
    {
      "cell_type": "code",
      "execution_count": 14,
      "id": "0a3887f3",
      "metadata": {
        "id": "0a3887f3"
      },
      "outputs": [],
      "source": [
        "count_vector = []      \n",
        "doc_word_cnt = dict()   # word appers in how many emails"
      ]
    },
    {
      "cell_type": "code",
      "execution_count": 15,
      "id": "e7328a2d",
      "metadata": {
        "id": "e7328a2d"
      },
      "outputs": [],
      "source": [
        "for ind, row in train_df.iterrows():\n",
        "    vector = dict()\n",
        "    word_cnt = 0\n",
        "    for word in row['content'].split():                #spliting all words of the email string\n",
        "        vector[word] = vector.get(word, 0) + 1\n",
        "        word_cnt += 1\n",
        "        if vector[word] == 1:\n",
        "            doc_word_cnt[word] = doc_word_cnt.get(word, 0) + 1\n",
        "    if vector:\n",
        "        count_vector.append(((vector, word_cnt), 1 if row['category'] == 'spam' else 0))"
      ]
    },
    {
      "cell_type": "code",
      "execution_count": 16,
      "id": "6340e1da",
      "metadata": {
        "id": "6340e1da"
      },
      "outputs": [],
      "source": [
        "from math import log, sqrt\n",
        "N = len(count_vector)"
      ]
    },
    {
      "cell_type": "code",
      "execution_count": 17,
      "id": "3ab25e7e",
      "metadata": {
        "id": "3ab25e7e"
      },
      "outputs": [],
      "source": [
        "for value in count_vector:\n",
        "    word_cnt = value[0][1]\n",
        "    vector = value[0][0]\n",
        "    for word in vector.keys():\n",
        "        vector[word] = (vector[word]/word_cnt)*(log((N+1)/(doc_word_cnt.get(word, 0)+1))+1)"
      ]
    },
    {
      "cell_type": "markdown",
      "id": "ee6eb76b",
      "metadata": {
        "id": "ee6eb76b"
      },
      "source": [
        "### Train your KNN model (reuse previously iplemented model built from scratch) and test on your data"
      ]
    },
    {
      "cell_type": "code",
      "execution_count": 18,
      "id": "fc0f417d",
      "metadata": {
        "id": "fc0f417d"
      },
      "outputs": [],
      "source": [
        "from heapq import heapify, heappush, heappop"
      ]
    },
    {
      "cell_type": "code",
      "execution_count": 19,
      "id": "71a70fdc",
      "metadata": {
        "id": "71a70fdc"
      },
      "outputs": [],
      "source": [
        "def cosine_distance(v1, v2):\n",
        "    v1_sum = sum([a**2 for a in v1.values()])\n",
        "    v2_sum = 0\n",
        "    dot_product = 0\n",
        "    for word in v2.keys():\n",
        "        if word in v1:\n",
        "            dot_product += v1[word]*v2[word]\n",
        "        v2_sum += v2[word]**2\n",
        "    return 1 - dot_product/(sqrt(v1_sum * v2_sum))"
      ]
    },
    {
      "cell_type": "code",
      "execution_count": 20,
      "id": "971922f3",
      "metadata": {
        "id": "971922f3"
      },
      "outputs": [],
      "source": [
        "def euclidean(v1, v2):\n",
        "    value = 0\n",
        "    for word in v2.keys():\n",
        "        if word in v1:\n",
        "            value += (v1[word] - v2[word])**2\n",
        "        else:\n",
        "            value += (v2[word])**2\n",
        "    for word in v1.keys():\n",
        "        if word not in v2:\n",
        "            value += (v1[word])**2\n",
        "    return sqrt(value)"
      ]
    },
    {
      "cell_type": "code",
      "execution_count": 21,
      "id": "da81cd80",
      "metadata": {
        "id": "da81cd80"
      },
      "outputs": [],
      "source": [
        "def manhattan(v1, v2):\n",
        "    value = 0\n",
        "    for word in v2.keys():\n",
        "        if word in v1:\n",
        "            value += abs(v1[word] - v2[word])\n",
        "        else:\n",
        "            value += (v2[word])\n",
        "    for word in v1.keys():\n",
        "        if word not in v2:\n",
        "            value += (v1[word])\n",
        "    return value"
      ]
    },
    {
      "cell_type": "code",
      "execution_count": 22,
      "id": "0242e7c3",
      "metadata": {
        "id": "0242e7c3"
      },
      "outputs": [],
      "source": [
        "def hamming(v1, v2):\n",
        "    return manhattan(v1, v2)/(max(len(v1), len(v2)))"
      ]
    },
    {
      "cell_type": "code",
      "execution_count": 23,
      "id": "3477c7ee",
      "metadata": {
        "id": "3477c7ee"
      },
      "outputs": [],
      "source": [
        "def distance(v1, v2, metric_name):\n",
        "    if metric_name == 'cosine':\n",
        "        return cosine_distance(v1, v2)\n",
        "    if metric_name == 'hamming':\n",
        "        return hamming(v1, v2)\n",
        "    if metric_name == 'manhattan':\n",
        "        return manhattan(v1, v2)\n",
        "    if metric_name == 'euclidean':\n",
        "        return euclidean(v1, v2)"
      ]
    },
    {
      "cell_type": "code",
      "execution_count": 24,
      "id": "5b970670",
      "metadata": {
        "id": "5b970670"
      },
      "outputs": [],
      "source": [
        "def classification(vector, k, metric):\n",
        "    max_heap = []\n",
        "    heapify(max_heap)\n",
        "    for value in count_vector:\n",
        "        category = value[1]\n",
        "        vector_train = value[0][0]\n",
        "        if vector_train and vector:\n",
        "            heappush(max_heap, (-distance(vector_train, vector, metric), category))\n",
        "            if len(max_heap) > k:\n",
        "                heappop(max_heap)\n",
        "    \n",
        "    majority = [0,0]\n",
        "    for value in max_heap:\n",
        "        majority[value[1]] += 1\n",
        "    \n",
        "    return 1 if majority[1] > majority[0] else 0"
      ]
    },
    {
      "cell_type": "code",
      "execution_count": 25,
      "id": "c21677ee",
      "metadata": {
        "id": "c21677ee"
      },
      "outputs": [],
      "source": [
        "def measure_accuracy(pred, act):\n",
        "    correct, wrong = 0, 0\n",
        "    for i, j in zip(pred, act):\n",
        "        if i == j:\n",
        "            correct += 1\n",
        "        else:\n",
        "            wrong += 1\n",
        "    return (correct/(correct+wrong))"
      ]
    },
    {
      "cell_type": "code",
      "execution_count": 26,
      "id": "a98dd35a",
      "metadata": {
        "id": "a98dd35a"
      },
      "outputs": [],
      "source": [
        "# test_df['category']"
      ]
    },
    {
      "cell_type": "code",
      "execution_count": 27,
      "id": "622fb868",
      "metadata": {
        "id": "622fb868"
      },
      "outputs": [],
      "source": [
        "act = [1 if row == 'spam' else 0 for row in test_df['category']]"
      ]
    },
    {
      "cell_type": "code",
      "execution_count": 28,
      "id": "f9c5f25a",
      "metadata": {
        "id": "f9c5f25a"
      },
      "outputs": [],
      "source": [
        "def test_model(k=11, metric ='cosine'):\n",
        "    pred = [0 for _ in range(test_df.shape[0])]\n",
        "    i = 0\n",
        "    for row in test_df['content']:\n",
        "        vector = dict()\n",
        "        word_cnt = 1\n",
        "        for word in row.split():\n",
        "            vector[word] = vector.get(word, 0) + 1\n",
        "            word_cnt += 1\n",
        "        for word in vector.keys():\n",
        "            vector[word] = (vector[word]/word_cnt)*(log(N/(1+doc_word_cnt.get(word, 0))))\n",
        "\n",
        "        pred[i] = classification(vector, k, metric)\n",
        "        i += 1\n",
        "        \n",
        "    return pred"
      ]
    },
    {
      "cell_type": "code",
      "execution_count": 29,
      "id": "6edd5df9",
      "metadata": {
        "id": "6edd5df9"
      },
      "outputs": [],
      "source": [
        "# pred = test_model()"
      ]
    },
    {
      "cell_type": "code",
      "execution_count": 30,
      "id": "27245ce5",
      "metadata": {
        "id": "27245ce5"
      },
      "outputs": [],
      "source": [
        "import matplotlib.pyplot as plt"
      ]
    },
    {
      "cell_type": "code",
      "execution_count": 31,
      "id": "08667d33",
      "metadata": {
        "id": "08667d33"
      },
      "outputs": [],
      "source": [
        "# print(pred)"
      ]
    },
    {
      "cell_type": "code",
      "execution_count": 32,
      "id": "7d42a67c",
      "metadata": {
        "id": "7d42a67c"
      },
      "outputs": [],
      "source": [
        "# print(act)"
      ]
    },
    {
      "cell_type": "code",
      "execution_count": 33,
      "id": "11c4c3d4",
      "metadata": {
        "id": "11c4c3d4"
      },
      "outputs": [],
      "source": [
        "# measure_accuracy(pred, act)"
      ]
    },
    {
      "cell_type": "markdown",
      "id": "22baf6b2",
      "metadata": {
        "id": "22baf6b2"
      },
      "source": [
        "***1. Experiment with different distance measures [Euclidean distance, Manhattan distance, Hamming Distance] and compare with the Cosine Similarity distance results.***"
      ]
    },
    {
      "cell_type": "code",
      "execution_count": 34,
      "id": "cfa9fabb",
      "metadata": {
        "id": "cfa9fabb"
      },
      "outputs": [],
      "source": [
        "def cal_confusion_matrix(pred):\n",
        "    true_neg, true_pos, false_pos, false_neg = 0, 0, 0, 0\n",
        "    for i, j in zip(pred, act):\n",
        "        if i == j:\n",
        "            if i == 0:\n",
        "                true_neg += 1\n",
        "            else:\n",
        "                true_pos += 1\n",
        "        else:\n",
        "            if j == 0:\n",
        "                false_pos += 1\n",
        "            else:\n",
        "                false_neg += 1\n",
        "    return {'true_neg':true_neg, 'false_neg': false_neg, 'false_pos':false_pos, 'true_pos':true_pos}"
      ]
    },
    {
      "cell_type": "code",
      "execution_count": 35,
      "id": "14f5f437",
      "metadata": {
        "id": "14f5f437"
      },
      "outputs": [],
      "source": [
        "def cal_precision(confusion_matrix):\n",
        "    return confusion_matrix['true_pos']/(confusion_matrix['true_pos'] + confusion_matrix['false_pos'])"
      ]
    },
    {
      "cell_type": "code",
      "execution_count": 36,
      "id": "732e69b7",
      "metadata": {
        "id": "732e69b7"
      },
      "outputs": [],
      "source": [
        "def cal_recall(confusion_matrix):\n",
        "    return confusion_matrix['true_pos']/(confusion_matrix['true_pos'] + confusion_matrix['false_neg'])"
      ]
    },
    {
      "cell_type": "code",
      "execution_count": 37,
      "id": "f3f94210",
      "metadata": {
        "id": "f3f94210"
      },
      "outputs": [],
      "source": [
        "def cal_f1score(precision, recall):\n",
        "    return (2*precision*recall)/(precision+recall)"
      ]
    },
    {
      "cell_type": "code",
      "execution_count": 38,
      "id": "2aa553b1",
      "metadata": {
        "id": "2aa553b1"
      },
      "outputs": [],
      "source": [
        "metrics = ['euclidean', 'cosine', 'manhattan', 'hamming']\n",
        "accuracy_metrics = []\n",
        "f1_metrics = []\n",
        "cosine_results = []"
      ]
    },
    {
      "cell_type": "code",
      "execution_count": 39,
      "id": "733f62ab",
      "metadata": {
        "id": "733f62ab"
      },
      "outputs": [],
      "source": [
        "for metric in metrics:\n",
        "    pred = test_model(metric=metric)\n",
        "#     print(metric,'Accuracy -', measure_accuracy(pred, act))\n",
        "    accuracy_metrics.append(measure_accuracy(pred, act))\n",
        "    confusion_matrix = cal_confusion_matrix(pred)\n",
        "    precision = cal_precision(confusion_matrix)\n",
        "    recall = cal_recall(confusion_matrix)\n",
        "    f1_score = cal_f1score(precision, recall)\n",
        "    f1_metrics.append(f1_score)\n",
        "    if metric == 'cosine':\n",
        "        cosine_results.extend([accuracy_metrics[-1], confusion_matrix, precision, recall, f1_score])"
      ]
    },
    {
      "cell_type": "code",
      "execution_count": 40,
      "id": "b5f54a77",
      "metadata": {
        "colab": {
          "base_uri": "https://localhost:8080/",
          "height": 175
        },
        "id": "b5f54a77",
        "outputId": "4b543caa-d064-4ce9-eb3e-649051ef488b"
      },
      "outputs": [
        {
          "output_type": "execute_result",
          "data": {
            "text/html": [
              "\n",
              "  <div id=\"df-b7d05537-c2ff-413f-95c8-875aaaa5bc5d\">\n",
              "    <div class=\"colab-df-container\">\n",
              "      <div>\n",
              "<style scoped>\n",
              "    .dataframe tbody tr th:only-of-type {\n",
              "        vertical-align: middle;\n",
              "    }\n",
              "\n",
              "    .dataframe tbody tr th {\n",
              "        vertical-align: top;\n",
              "    }\n",
              "\n",
              "    .dataframe thead th {\n",
              "        text-align: right;\n",
              "    }\n",
              "</style>\n",
              "<table border=\"1\" class=\"dataframe\">\n",
              "  <thead>\n",
              "    <tr style=\"text-align: right;\">\n",
              "      <th></th>\n",
              "      <th>Metrics</th>\n",
              "      <th>Accuracies</th>\n",
              "    </tr>\n",
              "  </thead>\n",
              "  <tbody>\n",
              "    <tr>\n",
              "      <th>0</th>\n",
              "      <td>euclidean</td>\n",
              "      <td>0.888789</td>\n",
              "    </tr>\n",
              "    <tr>\n",
              "      <th>1</th>\n",
              "      <td>cosine</td>\n",
              "      <td>0.939013</td>\n",
              "    </tr>\n",
              "    <tr>\n",
              "      <th>2</th>\n",
              "      <td>manhattan</td>\n",
              "      <td>0.898655</td>\n",
              "    </tr>\n",
              "    <tr>\n",
              "      <th>3</th>\n",
              "      <td>hamming</td>\n",
              "      <td>0.860090</td>\n",
              "    </tr>\n",
              "  </tbody>\n",
              "</table>\n",
              "</div>\n",
              "      <button class=\"colab-df-convert\" onclick=\"convertToInteractive('df-b7d05537-c2ff-413f-95c8-875aaaa5bc5d')\"\n",
              "              title=\"Convert this dataframe to an interactive table.\"\n",
              "              style=\"display:none;\">\n",
              "        \n",
              "  <svg xmlns=\"http://www.w3.org/2000/svg\" height=\"24px\"viewBox=\"0 0 24 24\"\n",
              "       width=\"24px\">\n",
              "    <path d=\"M0 0h24v24H0V0z\" fill=\"none\"/>\n",
              "    <path d=\"M18.56 5.44l.94 2.06.94-2.06 2.06-.94-2.06-.94-.94-2.06-.94 2.06-2.06.94zm-11 1L8.5 8.5l.94-2.06 2.06-.94-2.06-.94L8.5 2.5l-.94 2.06-2.06.94zm10 10l.94 2.06.94-2.06 2.06-.94-2.06-.94-.94-2.06-.94 2.06-2.06.94z\"/><path d=\"M17.41 7.96l-1.37-1.37c-.4-.4-.92-.59-1.43-.59-.52 0-1.04.2-1.43.59L10.3 9.45l-7.72 7.72c-.78.78-.78 2.05 0 2.83L4 21.41c.39.39.9.59 1.41.59.51 0 1.02-.2 1.41-.59l7.78-7.78 2.81-2.81c.8-.78.8-2.07 0-2.86zM5.41 20L4 18.59l7.72-7.72 1.47 1.35L5.41 20z\"/>\n",
              "  </svg>\n",
              "      </button>\n",
              "      \n",
              "  <style>\n",
              "    .colab-df-container {\n",
              "      display:flex;\n",
              "      flex-wrap:wrap;\n",
              "      gap: 12px;\n",
              "    }\n",
              "\n",
              "    .colab-df-convert {\n",
              "      background-color: #E8F0FE;\n",
              "      border: none;\n",
              "      border-radius: 50%;\n",
              "      cursor: pointer;\n",
              "      display: none;\n",
              "      fill: #1967D2;\n",
              "      height: 32px;\n",
              "      padding: 0 0 0 0;\n",
              "      width: 32px;\n",
              "    }\n",
              "\n",
              "    .colab-df-convert:hover {\n",
              "      background-color: #E2EBFA;\n",
              "      box-shadow: 0px 1px 2px rgba(60, 64, 67, 0.3), 0px 1px 3px 1px rgba(60, 64, 67, 0.15);\n",
              "      fill: #174EA6;\n",
              "    }\n",
              "\n",
              "    [theme=dark] .colab-df-convert {\n",
              "      background-color: #3B4455;\n",
              "      fill: #D2E3FC;\n",
              "    }\n",
              "\n",
              "    [theme=dark] .colab-df-convert:hover {\n",
              "      background-color: #434B5C;\n",
              "      box-shadow: 0px 1px 3px 1px rgba(0, 0, 0, 0.15);\n",
              "      filter: drop-shadow(0px 1px 2px rgba(0, 0, 0, 0.3));\n",
              "      fill: #FFFFFF;\n",
              "    }\n",
              "  </style>\n",
              "\n",
              "      <script>\n",
              "        const buttonEl =\n",
              "          document.querySelector('#df-b7d05537-c2ff-413f-95c8-875aaaa5bc5d button.colab-df-convert');\n",
              "        buttonEl.style.display =\n",
              "          google.colab.kernel.accessAllowed ? 'block' : 'none';\n",
              "\n",
              "        async function convertToInteractive(key) {\n",
              "          const element = document.querySelector('#df-b7d05537-c2ff-413f-95c8-875aaaa5bc5d');\n",
              "          const dataTable =\n",
              "            await google.colab.kernel.invokeFunction('convertToInteractive',\n",
              "                                                     [key], {});\n",
              "          if (!dataTable) return;\n",
              "\n",
              "          const docLinkHtml = 'Like what you see? Visit the ' +\n",
              "            '<a target=\"_blank\" href=https://colab.research.google.com/notebooks/data_table.ipynb>data table notebook</a>'\n",
              "            + ' to learn more about interactive tables.';\n",
              "          element.innerHTML = '';\n",
              "          dataTable['output_type'] = 'display_data';\n",
              "          await google.colab.output.renderOutput(dataTable, element);\n",
              "          const docLink = document.createElement('div');\n",
              "          docLink.innerHTML = docLinkHtml;\n",
              "          element.appendChild(docLink);\n",
              "        }\n",
              "      </script>\n",
              "    </div>\n",
              "  </div>\n",
              "  "
            ],
            "text/plain": [
              "     Metrics  Accuracies\n",
              "0  euclidean    0.888789\n",
              "1     cosine    0.939013\n",
              "2  manhattan    0.898655\n",
              "3    hamming    0.860090"
            ]
          },
          "metadata": {},
          "execution_count": 40
        }
      ],
      "source": [
        "display_readings = pd.DataFrame(columns=['Metrics', 'Accuracies'])\n",
        "display_readings['Metrics'] = metrics\n",
        "display_readings['Accuracies'] = accuracy_metrics\n",
        "display_readings"
      ]
    },
    {
      "cell_type": "code",
      "execution_count": 41,
      "id": "9e81d875",
      "metadata": {
        "colab": {
          "base_uri": "https://localhost:8080/",
          "height": 278
        },
        "id": "9e81d875",
        "outputId": "519a474b-98f4-498a-bfac-87b485520a30"
      },
      "outputs": [
        {
          "output_type": "display_data",
          "data": {
            "image/png": "[encoded data removed]",
            "text/plain": [
              "<Figure size 432x288 with 1 Axes>"
            ]
          },
          "metadata": {
            "needs_background": "light"
          }
        }
      ],
      "source": [
        "plt.bar(metrics, accuracy_metrics)\n",
        "plt.xlabel('metrics')\n",
        "plt.ylabel('accuracies')\n",
        "plt.show()"
      ]
    },
    {
      "cell_type": "code",
      "execution_count": 42,
      "id": "83383534",
      "metadata": {
        "colab": {
          "base_uri": "https://localhost:8080/",
          "height": 175
        },
        "id": "83383534",
        "outputId": "c109ccd1-ad20-4a05-e73a-34b568a63562"
      },
      "outputs": [
        {
          "output_type": "execute_result",
          "data": {
            "text/html": [
              "\n",
              "  <div id=\"df-d18f9b9d-0c41-4e96-8c04-8c3d8b5f3f00\">\n",
              "    <div class=\"colab-df-container\">\n",
              "      <div>\n",
              "<style scoped>\n",
              "    .dataframe tbody tr th:only-of-type {\n",
              "        vertical-align: middle;\n",
              "    }\n",
              "\n",
              "    .dataframe tbody tr th {\n",
              "        vertical-align: top;\n",
              "    }\n",
              "\n",
              "    .dataframe thead th {\n",
              "        text-align: right;\n",
              "    }\n",
              "</style>\n",
              "<table border=\"1\" class=\"dataframe\">\n",
              "  <thead>\n",
              "    <tr style=\"text-align: right;\">\n",
              "      <th></th>\n",
              "      <th>Metrics</th>\n",
              "      <th>F1-Score</th>\n",
              "    </tr>\n",
              "  </thead>\n",
              "  <tbody>\n",
              "    <tr>\n",
              "      <th>0</th>\n",
              "      <td>euclidean</td>\n",
              "      <td>0.380000</td>\n",
              "    </tr>\n",
              "    <tr>\n",
              "      <th>1</th>\n",
              "      <td>cosine</td>\n",
              "      <td>0.755396</td>\n",
              "    </tr>\n",
              "    <tr>\n",
              "      <th>2</th>\n",
              "      <td>manhattan</td>\n",
              "      <td>0.443350</td>\n",
              "    </tr>\n",
              "    <tr>\n",
              "      <th>3</th>\n",
              "      <td>hamming</td>\n",
              "      <td>0.025000</td>\n",
              "    </tr>\n",
              "  </tbody>\n",
              "</table>\n",
              "</div>\n",
              "      <button class=\"colab-df-convert\" onclick=\"convertToInteractive('df-d18f9b9d-0c41-4e96-8c04-8c3d8b5f3f00')\"\n",
              "              title=\"Convert this dataframe to an interactive table.\"\n",
              "              style=\"display:none;\">\n",
              "        \n",
              "  <svg xmlns=\"http://www.w3.org/2000/svg\" height=\"24px\"viewBox=\"0 0 24 24\"\n",
              "       width=\"24px\">\n",
              "    <path d=\"M0 0h24v24H0V0z\" fill=\"none\"/>\n",
              "    <path d=\"M18.56 5.44l.94 2.06.94-2.06 2.06-.94-2.06-.94-.94-2.06-.94 2.06-2.06.94zm-11 1L8.5 8.5l.94-2.06 2.06-.94-2.06-.94L8.5 2.5l-.94 2.06-2.06.94zm10 10l.94 2.06.94-2.06 2.06-.94-2.06-.94-.94-2.06-.94 2.06-2.06.94z\"/><path d=\"M17.41 7.96l-1.37-1.37c-.4-.4-.92-.59-1.43-.59-.52 0-1.04.2-1.43.59L10.3 9.45l-7.72 7.72c-.78.78-.78 2.05 0 2.83L4 21.41c.39.39.9.59 1.41.59.51 0 1.02-.2 1.41-.59l7.78-7.78 2.81-2.81c.8-.78.8-2.07 0-2.86zM5.41 20L4 18.59l7.72-7.72 1.47 1.35L5.41 20z\"/>\n",
              "  </svg>\n",
              "      </button>\n",
              "      \n",
              "  <style>\n",
              "    .colab-df-container {\n",
              "      display:flex;\n",
              "      flex-wrap:wrap;\n",
              "      gap: 12px;\n",
              "    }\n",
              "\n",
              "    .colab-df-convert {\n",
              "      background-color: #E8F0FE;\n",
              "      border: none;\n",
              "      border-radius: 50%;\n",
              "      cursor: pointer;\n",
              "      display: none;\n",
              "      fill: #1967D2;\n",
              "      height: 32px;\n",
              "      padding: 0 0 0 0;\n",
              "      width: 32px;\n",
              "    }\n",
              "\n",
              "    .colab-df-convert:hover {\n",
              "      background-color: #E2EBFA;\n",
              "      box-shadow: 0px 1px 2px rgba(60, 64, 67, 0.3), 0px 1px 3px 1px rgba(60, 64, 67, 0.15);\n",
              "      fill: #174EA6;\n",
              "    }\n",
              "\n",
              "    [theme=dark] .colab-df-convert {\n",
              "      background-color: #3B4455;\n",
              "      fill: #D2E3FC;\n",
              "    }\n",
              "\n",
              "    [theme=dark] .colab-df-convert:hover {\n",
              "      background-color: #434B5C;\n",
              "      box-shadow: 0px 1px 3px 1px rgba(0, 0, 0, 0.15);\n",
              "      filter: drop-shadow(0px 1px 2px rgba(0, 0, 0, 0.3));\n",
              "      fill: #FFFFFF;\n",
              "    }\n",
              "  </style>\n",
              "\n",
              "      <script>\n",
              "        const buttonEl =\n",
              "          document.querySelector('#df-d18f9b9d-0c41-4e96-8c04-8c3d8b5f3f00 button.colab-df-convert');\n",
              "        buttonEl.style.display =\n",
              "          google.colab.kernel.accessAllowed ? 'block' : 'none';\n",
              "\n",
              "        async function convertToInteractive(key) {\n",
              "          const element = document.querySelector('#df-d18f9b9d-0c41-4e96-8c04-8c3d8b5f3f00');\n",
              "          const dataTable =\n",
              "            await google.colab.kernel.invokeFunction('convertToInteractive',\n",
              "                                                     [key], {});\n",
              "          if (!dataTable) return;\n",
              "\n",
              "          const docLinkHtml = 'Like what you see? Visit the ' +\n",
              "            '<a target=\"_blank\" href=https://colab.research.google.com/notebooks/data_table.ipynb>data table notebook</a>'\n",
              "            + ' to learn more about interactive tables.';\n",
              "          element.innerHTML = '';\n",
              "          dataTable['output_type'] = 'display_data';\n",
              "          await google.colab.output.renderOutput(dataTable, element);\n",
              "          const docLink = document.createElement('div');\n",
              "          docLink.innerHTML = docLinkHtml;\n",
              "          element.appendChild(docLink);\n",
              "        }\n",
              "      </script>\n",
              "    </div>\n",
              "  </div>\n",
              "  "
            ],
            "text/plain": [
              "     Metrics  F1-Score\n",
              "0  euclidean  0.380000\n",
              "1     cosine  0.755396\n",
              "2  manhattan  0.443350\n",
              "3    hamming  0.025000"
            ]
          },
          "metadata": {},
          "execution_count": 42
        }
      ],
      "source": [
        "display_readings = pd.DataFrame(columns=['Metrics', 'F1-Score'])\n",
        "display_readings['Metrics'] = metrics\n",
        "display_readings['F1-Score'] = f1_metrics\n",
        "display_readings"
      ]
    },
    {
      "cell_type": "code",
      "execution_count": 43,
      "id": "68f1bb23",
      "metadata": {
        "colab": {
          "base_uri": "https://localhost:8080/",
          "height": 278
        },
        "id": "68f1bb23",
        "outputId": "d9d70021-2ebf-4425-c3dd-25bf1da98a9c"
      },
      "outputs": [
        {
          "output_type": "display_data",
          "data": {
            "image/png": "[encoded data removed]",
            "text/plain": [
              "<Figure size 432x288 with 1 Axes>"
            ]
          },
          "metadata": {
            "needs_background": "light"
          }
        }
      ],
      "source": [
        "plt.bar(metrics, f1_metrics)\n",
        "plt.xlabel('metrics')\n",
        "plt.ylabel('f1_score')\n",
        "plt.show()"
      ]
    },
    {
      "cell_type": "markdown",
      "id": "bcf6f3b1",
      "metadata": {
        "id": "bcf6f3b1"
      },
      "source": [
        "***2. Explain which distance measure works best and why? Explore the distance measures and weigh their pro and cons in different application settings.***"
      ]
    },
    {
      "cell_type": "markdown",
      "id": "c018ff28",
      "metadata": {
        "id": "c018ff28"
      },
      "source": [
        "***Calculate Confusion matrix, Precision, Recall, and F1 Score***"
      ]
    },
    {
      "cell_type": "markdown",
      "id": "ab777197",
      "metadata": {
        "id": "ab777197"
      },
      "source": [
        "-Accuracy may not be a good measure if the dataset is not balanced (both negative and positive classes have different number of data instances). Using accuracy in such scenarios can result in misleading interpretation of results.\n",
        "\n",
        "-Precision should ideally be 1 (high) for a good classifier. Precision becomes 1 only when the numerator and denominator are equal i.e TP = TP +FP, this also means FP is zero. As FP increases the value of denominator, it becomes greater than the numerator and precision value decreases (which we don’t want).\n",
        "\n",
        "-Recall is also known as sensitivity or true positive rate and is defined as TP/(TP + FN).\n",
        "\n",
        "-So ideally in a good classifier, we want both precision and recall to be one which also means FP and FN are zero. Therefore we need a metric that takes into account both precision and recall. \n",
        "\n",
        "-F1-score is a metric which takes into account both precision and recall and is defined as 2*(Precision*Recall)/(Precision+Recall). F1 score is the harmonic mean of precision and recall and is a better measure than accuracy."
      ]
    },
    {
      "cell_type": "code",
      "execution_count": 44,
      "id": "ab969ce1",
      "metadata": {
        "colab": {
          "base_uri": "https://localhost:8080/"
        },
        "id": "ab969ce1",
        "outputId": "a524f55d-8bf7-4887-ffda-e124fd5fa873"
      },
      "outputs": [
        {
          "output_type": "stream",
          "name": "stdout",
          "text": [
            "Confusion Matrix\n",
            "{'true_neg': 942, 'false_neg': 53, 'false_pos': 15, 'true_pos': 105}\n"
          ]
        }
      ],
      "source": [
        "print('Confusion Matrix')\n",
        "print(cosine_results[1])"
      ]
    },
    {
      "cell_type": "code",
      "execution_count": 45,
      "id": "3548939d",
      "metadata": {
        "colab": {
          "base_uri": "https://localhost:8080/"
        },
        "id": "3548939d",
        "outputId": "94d84b27-c6e9-4498-b208-835b6897d3df"
      },
      "outputs": [
        {
          "output_type": "stream",
          "name": "stdout",
          "text": [
            "Accuracy -  0.9390134529147982\n"
          ]
        }
      ],
      "source": [
        "print('Accuracy - ', cosine_results[0])"
      ]
    },
    {
      "cell_type": "code",
      "execution_count": 46,
      "id": "115714e5",
      "metadata": {
        "colab": {
          "base_uri": "https://localhost:8080/"
        },
        "id": "115714e5",
        "outputId": "3782d1fe-d769-4989-89be-40464cba30e2"
      },
      "outputs": [
        {
          "output_type": "stream",
          "name": "stdout",
          "text": [
            "Precision -  0.875\n"
          ]
        }
      ],
      "source": [
        "print('Precision - ', cosine_results[2])"
      ]
    },
    {
      "cell_type": "code",
      "execution_count": 47,
      "id": "3bf0ec54",
      "metadata": {
        "colab": {
          "base_uri": "https://localhost:8080/"
        },
        "id": "3bf0ec54",
        "outputId": "a9bdee63-74f0-4b8d-cbcb-dc290e443736"
      },
      "outputs": [
        {
          "output_type": "stream",
          "name": "stdout",
          "text": [
            "Recall -  0.6645569620253164\n"
          ]
        }
      ],
      "source": [
        "print('Recall - ', cosine_results[3])"
      ]
    },
    {
      "cell_type": "code",
      "execution_count": 48,
      "id": "451305d6",
      "metadata": {
        "colab": {
          "base_uri": "https://localhost:8080/"
        },
        "id": "451305d6",
        "outputId": "e7f7757c-d1da-49c8-de0d-285da0b3a923"
      },
      "outputs": [
        {
          "output_type": "stream",
          "name": "stdout",
          "text": [
            "F1-Score -  0.7553956834532374\n"
          ]
        }
      ],
      "source": [
        "print('F1-Score - ', cosine_results[4])"
      ]
    },
    {
      "cell_type": "markdown",
      "id": "4a1fedea",
      "metadata": {
        "id": "4a1fedea"
      },
      "source": [
        "***Plot for different values of \"K\" VS F1-score***"
      ]
    },
    {
      "cell_type": "code",
      "execution_count": 49,
      "id": "c7b6c5cf",
      "metadata": {
        "id": "c7b6c5cf"
      },
      "outputs": [],
      "source": [
        "diff_k = [1,3,5,7,11,17,23,27]\n",
        "diff_f1 = []"
      ]
    },
    {
      "cell_type": "code",
      "execution_count": 50,
      "id": "ce9646a2",
      "metadata": {
        "id": "ce9646a2"
      },
      "outputs": [],
      "source": [
        "for k in diff_k:\n",
        "    pred = test_model(k=k, metric='cosine')\n",
        "    confusion_matrix = cal_confusion_matrix(pred)\n",
        "    precision = cal_precision(confusion_matrix)\n",
        "    recall = cal_recall(confusion_matrix)\n",
        "    f1_score = cal_f1score(precision, recall)\n",
        "    diff_f1.append(f1_score)"
      ]
    },
    {
      "cell_type": "code",
      "execution_count": 51,
      "id": "1897f8f9",
      "metadata": {
        "colab": {
          "base_uri": "https://localhost:8080/",
          "height": 300
        },
        "id": "1897f8f9",
        "outputId": "9b3c3fd3-912c-411d-9359-6545b1d3878c"
      },
      "outputs": [
        {
          "output_type": "execute_result",
          "data": {
            "text/html": [
              "\n",
              "  <div id=\"df-22c5d2a4-2c2f-469c-852b-44f5bc29b1b2\">\n",
              "    <div class=\"colab-df-container\">\n",
              "      <div>\n",
              "<style scoped>\n",
              "    .dataframe tbody tr th:only-of-type {\n",
              "        vertical-align: middle;\n",
              "    }\n",
              "\n",
              "    .dataframe tbody tr th {\n",
              "        vertical-align: top;\n",
              "    }\n",
              "\n",
              "    .dataframe thead th {\n",
              "        text-align: right;\n",
              "    }\n",
              "</style>\n",
              "<table border=\"1\" class=\"dataframe\">\n",
              "  <thead>\n",
              "    <tr style=\"text-align: right;\">\n",
              "      <th></th>\n",
              "      <th>K</th>\n",
              "      <th>F1-Score</th>\n",
              "    </tr>\n",
              "  </thead>\n",
              "  <tbody>\n",
              "    <tr>\n",
              "      <th>0</th>\n",
              "      <td>1</td>\n",
              "      <td>0.853147</td>\n",
              "    </tr>\n",
              "    <tr>\n",
              "      <th>1</th>\n",
              "      <td>3</td>\n",
              "      <td>0.828571</td>\n",
              "    </tr>\n",
              "    <tr>\n",
              "      <th>2</th>\n",
              "      <td>5</td>\n",
              "      <td>0.785455</td>\n",
              "    </tr>\n",
              "    <tr>\n",
              "      <th>3</th>\n",
              "      <td>7</td>\n",
              "      <td>0.751825</td>\n",
              "    </tr>\n",
              "    <tr>\n",
              "      <th>4</th>\n",
              "      <td>11</td>\n",
              "      <td>0.755396</td>\n",
              "    </tr>\n",
              "    <tr>\n",
              "      <th>5</th>\n",
              "      <td>17</td>\n",
              "      <td>0.705036</td>\n",
              "    </tr>\n",
              "    <tr>\n",
              "      <th>6</th>\n",
              "      <td>23</td>\n",
              "      <td>0.685714</td>\n",
              "    </tr>\n",
              "    <tr>\n",
              "      <th>7</th>\n",
              "      <td>27</td>\n",
              "      <td>0.664286</td>\n",
              "    </tr>\n",
              "  </tbody>\n",
              "</table>\n",
              "</div>\n",
              "      <button class=\"colab-df-convert\" onclick=\"convertToInteractive('df-22c5d2a4-2c2f-469c-852b-44f5bc29b1b2')\"\n",
              "              title=\"Convert this dataframe to an interactive table.\"\n",
              "              style=\"display:none;\">\n",
              "        \n",
              "  <svg xmlns=\"http://www.w3.org/2000/svg\" height=\"24px\"viewBox=\"0 0 24 24\"\n",
              "       width=\"24px\">\n",
              "    <path d=\"M0 0h24v24H0V0z\" fill=\"none\"/>\n",
              "    <path d=\"M18.56 5.44l.94 2.06.94-2.06 2.06-.94-2.06-.94-.94-2.06-.94 2.06-2.06.94zm-11 1L8.5 8.5l.94-2.06 2.06-.94-2.06-.94L8.5 2.5l-.94 2.06-2.06.94zm10 10l.94 2.06.94-2.06 2.06-.94-2.06-.94-.94-2.06-.94 2.06-2.06.94z\"/><path d=\"M17.41 7.96l-1.37-1.37c-.4-.4-.92-.59-1.43-.59-.52 0-1.04.2-1.43.59L10.3 9.45l-7.72 7.72c-.78.78-.78 2.05 0 2.83L4 21.41c.39.39.9.59 1.41.59.51 0 1.02-.2 1.41-.59l7.78-7.78 2.81-2.81c.8-.78.8-2.07 0-2.86zM5.41 20L4 18.59l7.72-7.72 1.47 1.35L5.41 20z\"/>\n",
              "  </svg>\n",
              "      </button>\n",
              "      \n",
              "  <style>\n",
              "    .colab-df-container {\n",
              "      display:flex;\n",
              "      flex-wrap:wrap;\n",
              "      gap: 12px;\n",
              "    }\n",
              "\n",
              "    .colab-df-convert {\n",
              "      background-color: #E8F0FE;\n",
              "      border: none;\n",
              "      border-radius: 50%;\n",
              "      cursor: pointer;\n",
              "      display: none;\n",
              "      fill: #1967D2;\n",
              "      height: 32px;\n",
              "      padding: 0 0 0 0;\n",
              "      width: 32px;\n",
              "    }\n",
              "\n",
              "    .colab-df-convert:hover {\n",
              "      background-color: #E2EBFA;\n",
              "      box-shadow: 0px 1px 2px rgba(60, 64, 67, 0.3), 0px 1px 3px 1px rgba(60, 64, 67, 0.15);\n",
              "      fill: #174EA6;\n",
              "    }\n",
              "\n",
              "    [theme=dark] .colab-df-convert {\n",
              "      background-color: #3B4455;\n",
              "      fill: #D2E3FC;\n",
              "    }\n",
              "\n",
              "    [theme=dark] .colab-df-convert:hover {\n",
              "      background-color: #434B5C;\n",
              "      box-shadow: 0px 1px 3px 1px rgba(0, 0, 0, 0.15);\n",
              "      filter: drop-shadow(0px 1px 2px rgba(0, 0, 0, 0.3));\n",
              "      fill: #FFFFFF;\n",
              "    }\n",
              "  </style>\n",
              "\n",
              "      <script>\n",
              "        const buttonEl =\n",
              "          document.querySelector('#df-22c5d2a4-2c2f-469c-852b-44f5bc29b1b2 button.colab-df-convert');\n",
              "        buttonEl.style.display =\n",
              "          google.colab.kernel.accessAllowed ? 'block' : 'none';\n",
              "\n",
              "        async function convertToInteractive(key) {\n",
              "          const element = document.querySelector('#df-22c5d2a4-2c2f-469c-852b-44f5bc29b1b2');\n",
              "          const dataTable =\n",
              "            await google.colab.kernel.invokeFunction('convertToInteractive',\n",
              "                                                     [key], {});\n",
              "          if (!dataTable) return;\n",
              "\n",
              "          const docLinkHtml = 'Like what you see? Visit the ' +\n",
              "            '<a target=\"_blank\" href=https://colab.research.google.com/notebooks/data_table.ipynb>data table notebook</a>'\n",
              "            + ' to learn more about interactive tables.';\n",
              "          element.innerHTML = '';\n",
              "          dataTable['output_type'] = 'display_data';\n",
              "          await google.colab.output.renderOutput(dataTable, element);\n",
              "          const docLink = document.createElement('div');\n",
              "          docLink.innerHTML = docLinkHtml;\n",
              "          element.appendChild(docLink);\n",
              "        }\n",
              "      </script>\n",
              "    </div>\n",
              "  </div>\n",
              "  "
            ],
            "text/plain": [
              "    K  F1-Score\n",
              "0   1  0.853147\n",
              "1   3  0.828571\n",
              "2   5  0.785455\n",
              "3   7  0.751825\n",
              "4  11  0.755396\n",
              "5  17  0.705036\n",
              "6  23  0.685714\n",
              "7  27  0.664286"
            ]
          },
          "metadata": {},
          "execution_count": 51
        }
      ],
      "source": [
        "display_readings = pd.DataFrame(columns=['K', 'F1-Score'])\n",
        "display_readings['K'] = diff_k\n",
        "display_readings['F1-Score'] = diff_f1\n",
        "display_readings"
      ]
    },
    {
      "cell_type": "code",
      "execution_count": 52,
      "id": "db2b370e",
      "metadata": {
        "colab": {
          "base_uri": "https://localhost:8080/",
          "height": 278
        },
        "id": "db2b370e",
        "outputId": "93362bf0-41c1-4c21-f1f9-6aeaa284f0d7"
      },
      "outputs": [
        {
          "output_type": "display_data",
          "data": {
            "image/png": "[encoded data removed]",
            "text/plain": [
              "<Figure size 432x288 with 1 Axes>"
            ]
          },
          "metadata": {
            "needs_background": "light"
          }
        }
      ],
      "source": [
        "plt.xlabel('k')\n",
        "plt.ylabel('f1_score')\n",
        "plt.plot(diff_k, diff_f1)\n",
        "plt.show()"
      ]
    },
    {
      "cell_type": "markdown",
      "id": "15000352",
      "metadata": {
        "id": "15000352"
      },
      "source": [
        "### Train and test Sklearn's KNN classifier model on your data (use metric which gave best results on your experimentation with built-from-scratch model.)"
      ]
    },
    {
      "cell_type": "code",
      "execution_count": 53,
      "id": "48aab7d3",
      "metadata": {
        "id": "48aab7d3"
      },
      "outputs": [],
      "source": [
        "# best_metric"
      ]
    },
    {
      "cell_type": "code",
      "execution_count": 54,
      "id": "e5a7e509",
      "metadata": {
        "id": "e5a7e509"
      },
      "outputs": [],
      "source": [
        "from sklearn.feature_extraction.text import CountVectorizer\n",
        "from sklearn.feature_extraction.text import TfidfTransformer\n",
        "from sklearn.neighbors import KNeighborsClassifier\n",
        "from sklearn.metrics import classification_report, confusion_matrix, accuracy_score, precision_recall_fscore_support"
      ]
    },
    {
      "cell_type": "code",
      "execution_count": 55,
      "id": "71f3eb98",
      "metadata": {
        "id": "71f3eb98"
      },
      "outputs": [],
      "source": [
        "count_vect = CountVectorizer()\n",
        "tfidfconverter = TfidfTransformer()\n",
        "knn = KNeighborsClassifier(n_neighbors=7, metric='cosine')"
      ]
    },
    {
      "cell_type": "code",
      "execution_count": 56,
      "id": "9cff851d",
      "metadata": {
        "id": "9cff851d"
      },
      "outputs": [],
      "source": [
        "emails_test = test_df['content']\n",
        "category_test = test_df['category']\n",
        "emails_train = train_df['content']\n",
        "category_train = train_df['category']"
      ]
    },
    {
      "cell_type": "code",
      "execution_count": 57,
      "id": "e0849c47",
      "metadata": {
        "id": "e0849c47"
      },
      "outputs": [],
      "source": [
        "email_train_counts = count_vect.fit_transform(emails_train)"
      ]
    },
    {
      "cell_type": "code",
      "execution_count": 58,
      "id": "0c82614c",
      "metadata": {
        "id": "0c82614c"
      },
      "outputs": [],
      "source": [
        "email_train_tfidf = tfidfconverter.fit_transform(email_train_counts)"
      ]
    },
    {
      "cell_type": "code",
      "execution_count": 59,
      "id": "672dbc0a",
      "metadata": {
        "id": "672dbc0a"
      },
      "outputs": [],
      "source": [
        "classification = knn.fit(email_train_tfidf, category_train)"
      ]
    },
    {
      "cell_type": "code",
      "execution_count": 60,
      "id": "cb4ee22d",
      "metadata": {
        "id": "cb4ee22d"
      },
      "outputs": [],
      "source": [
        "email_test_counts = count_vect.transform(emails_test)\n",
        "email_test_tfidf = tfidfconverter.transform(email_test_counts)\n",
        "predicted = classification.predict(email_test_tfidf)\n"
      ]
    },
    {
      "cell_type": "code",
      "execution_count": 61,
      "id": "6a8b5833",
      "metadata": {
        "id": "6a8b5833"
      },
      "outputs": [],
      "source": [
        "# npy.mean(predicted == category_test)"
      ]
    },
    {
      "cell_type": "code",
      "execution_count": 62,
      "id": "f8b37d12",
      "metadata": {
        "id": "f8b37d12"
      },
      "outputs": [],
      "source": [
        "conf_matrix = confusion_matrix(category_test,predicted)\n",
        "accuracy = accuracy_score(category_test, predicted)"
      ]
    },
    {
      "cell_type": "code",
      "execution_count": 63,
      "id": "b5f31b3b",
      "metadata": {
        "colab": {
          "base_uri": "https://localhost:8080/"
        },
        "id": "b5f31b3b",
        "outputId": "ebf1e828-794d-4c60-f148-9477aa224c92"
      },
      "outputs": [
        {
          "output_type": "stream",
          "name": "stdout",
          "text": [
            "[[955   2]\n",
            " [ 55 103]]\n",
            "0.9488789237668162\n"
          ]
        }
      ],
      "source": [
        "print(conf_matrix)\n",
        "print(accuracy)"
      ]
    },
    {
      "cell_type": "code",
      "execution_count": 64,
      "id": "1fbda71a",
      "metadata": {
        "id": "1fbda71a"
      },
      "outputs": [],
      "source": [
        "conf_matrix_dic = {\n",
        "    'true_neg':conf_matrix[0,0],\n",
        "    'false_neg':conf_matrix[1,0],\n",
        "    'false_pos':conf_matrix[0,1],\n",
        "    'true_pos':conf_matrix[1,1],\n",
        "}\n",
        "# print(conf_matrix_dic)\n",
        "# print((conf_matrix_dic['true_neg']+conf_matrix_dic['true_pos'])/sum(conf_matrix_dic.values()))"
      ]
    },
    {
      "cell_type": "markdown",
      "id": "7d22aa47",
      "metadata": {
        "id": "7d22aa47"
      },
      "source": [
        "***Compare both the models result.***"
      ]
    },
    {
      "cell_type": "code",
      "execution_count": 65,
      "id": "6a7a5274",
      "metadata": {
        "id": "6a7a5274"
      },
      "outputs": [],
      "source": [
        "comparison = pd.DataFrame(columns = ['Scratch Model', \"SkLearn's\"])\n"
      ]
    },
    {
      "cell_type": "code",
      "execution_count": 66,
      "id": "7f8dcaca",
      "metadata": {
        "colab": {
          "base_uri": "https://localhost:8080/"
        },
        "id": "7f8dcaca",
        "outputId": "58e20df3-a44b-4417-ccc8-4e79329ad4cb"
      },
      "outputs": [
        {
          "output_type": "execute_result",
          "data": {
            "text/plain": [
              "[0.9488789237668162, 0.9488789237668162, 0.9488789237668162]"
            ]
          },
          "metadata": {},
          "execution_count": 66
        }
      ],
      "source": [
        "list(precision_recall_fscore_support(category_test, predicted, average='micro')[:-1])"
      ]
    },
    {
      "cell_type": "code",
      "execution_count": 67,
      "id": "e456cd83",
      "metadata": {
        "id": "e456cd83"
      },
      "outputs": [],
      "source": [
        "[accuracy].extend([1])"
      ]
    },
    {
      "cell_type": "code",
      "execution_count": 68,
      "id": "36e46125",
      "metadata": {
        "colab": {
          "base_uri": "https://localhost:8080/",
          "height": 175
        },
        "id": "36e46125",
        "outputId": "5ffd7061-3eef-4c33-eb9a-953283a49a3b"
      },
      "outputs": [
        {
          "output_type": "execute_result",
          "data": {
            "text/html": [
              "\n",
              "  <div id=\"df-0fdbe842-e098-40f5-a600-bd86ee3faa3b\">\n",
              "    <div class=\"colab-df-container\">\n",
              "      <div>\n",
              "<style scoped>\n",
              "    .dataframe tbody tr th:only-of-type {\n",
              "        vertical-align: middle;\n",
              "    }\n",
              "\n",
              "    .dataframe tbody tr th {\n",
              "        vertical-align: top;\n",
              "    }\n",
              "\n",
              "    .dataframe thead th {\n",
              "        text-align: right;\n",
              "    }\n",
              "</style>\n",
              "<table border=\"1\" class=\"dataframe\">\n",
              "  <thead>\n",
              "    <tr style=\"text-align: right;\">\n",
              "      <th></th>\n",
              "      <th>Scratch Model</th>\n",
              "      <th>SkLearn's</th>\n",
              "    </tr>\n",
              "  </thead>\n",
              "  <tbody>\n",
              "    <tr>\n",
              "      <th>accuracy</th>\n",
              "      <td>0.939013</td>\n",
              "      <td>0.948879</td>\n",
              "    </tr>\n",
              "    <tr>\n",
              "      <th>precision</th>\n",
              "      <td>0.875000</td>\n",
              "      <td>0.950562</td>\n",
              "    </tr>\n",
              "    <tr>\n",
              "      <th>recall</th>\n",
              "      <td>0.664557</td>\n",
              "      <td>0.948879</td>\n",
              "    </tr>\n",
              "    <tr>\n",
              "      <th>f1_score</th>\n",
              "      <td>0.755396</td>\n",
              "      <td>0.944417</td>\n",
              "    </tr>\n",
              "  </tbody>\n",
              "</table>\n",
              "</div>\n",
              "      <button class=\"colab-df-convert\" onclick=\"convertToInteractive('df-0fdbe842-e098-40f5-a600-bd86ee3faa3b')\"\n",
              "              title=\"Convert this dataframe to an interactive table.\"\n",
              "              style=\"display:none;\">\n",
              "        \n",
              "  <svg xmlns=\"http://www.w3.org/2000/svg\" height=\"24px\"viewBox=\"0 0 24 24\"\n",
              "       width=\"24px\">\n",
              "    <path d=\"M0 0h24v24H0V0z\" fill=\"none\"/>\n",
              "    <path d=\"M18.56 5.44l.94 2.06.94-2.06 2.06-.94-2.06-.94-.94-2.06-.94 2.06-2.06.94zm-11 1L8.5 8.5l.94-2.06 2.06-.94-2.06-.94L8.5 2.5l-.94 2.06-2.06.94zm10 10l.94 2.06.94-2.06 2.06-.94-2.06-.94-.94-2.06-.94 2.06-2.06.94z\"/><path d=\"M17.41 7.96l-1.37-1.37c-.4-.4-.92-.59-1.43-.59-.52 0-1.04.2-1.43.59L10.3 9.45l-7.72 7.72c-.78.78-.78 2.05 0 2.83L4 21.41c.39.39.9.59 1.41.59.51 0 1.02-.2 1.41-.59l7.78-7.78 2.81-2.81c.8-.78.8-2.07 0-2.86zM5.41 20L4 18.59l7.72-7.72 1.47 1.35L5.41 20z\"/>\n",
              "  </svg>\n",
              "      </button>\n",
              "      \n",
              "  <style>\n",
              "    .colab-df-container {\n",
              "      display:flex;\n",
              "      flex-wrap:wrap;\n",
              "      gap: 12px;\n",
              "    }\n",
              "\n",
              "    .colab-df-convert {\n",
              "      background-color: #E8F0FE;\n",
              "      border: none;\n",
              "      border-radius: 50%;\n",
              "      cursor: pointer;\n",
              "      display: none;\n",
              "      fill: #1967D2;\n",
              "      height: 32px;\n",
              "      padding: 0 0 0 0;\n",
              "      width: 32px;\n",
              "    }\n",
              "\n",
              "    .colab-df-convert:hover {\n",
              "      background-color: #E2EBFA;\n",
              "      box-shadow: 0px 1px 2px rgba(60, 64, 67, 0.3), 0px 1px 3px 1px rgba(60, 64, 67, 0.15);\n",
              "      fill: #174EA6;\n",
              "    }\n",
              "\n",
              "    [theme=dark] .colab-df-convert {\n",
              "      background-color: #3B4455;\n",
              "      fill: #D2E3FC;\n",
              "    }\n",
              "\n",
              "    [theme=dark] .colab-df-convert:hover {\n",
              "      background-color: #434B5C;\n",
              "      box-shadow: 0px 1px 3px 1px rgba(0, 0, 0, 0.15);\n",
              "      filter: drop-shadow(0px 1px 2px rgba(0, 0, 0, 0.3));\n",
              "      fill: #FFFFFF;\n",
              "    }\n",
              "  </style>\n",
              "\n",
              "      <script>\n",
              "        const buttonEl =\n",
              "          document.querySelector('#df-0fdbe842-e098-40f5-a600-bd86ee3faa3b button.colab-df-convert');\n",
              "        buttonEl.style.display =\n",
              "          google.colab.kernel.accessAllowed ? 'block' : 'none';\n",
              "\n",
              "        async function convertToInteractive(key) {\n",
              "          const element = document.querySelector('#df-0fdbe842-e098-40f5-a600-bd86ee3faa3b');\n",
              "          const dataTable =\n",
              "            await google.colab.kernel.invokeFunction('convertToInteractive',\n",
              "                                                     [key], {});\n",
              "          if (!dataTable) return;\n",
              "\n",
              "          const docLinkHtml = 'Like what you see? Visit the ' +\n",
              "            '<a target=\"_blank\" href=https://colab.research.google.com/notebooks/data_table.ipynb>data table notebook</a>'\n",
              "            + ' to learn more about interactive tables.';\n",
              "          element.innerHTML = '';\n",
              "          dataTable['output_type'] = 'display_data';\n",
              "          await google.colab.output.renderOutput(dataTable, element);\n",
              "          const docLink = document.createElement('div');\n",
              "          docLink.innerHTML = docLinkHtml;\n",
              "          element.appendChild(docLink);\n",
              "        }\n",
              "      </script>\n",
              "    </div>\n",
              "  </div>\n",
              "  "
            ],
            "text/plain": [
              "           Scratch Model  SkLearn's\n",
              "accuracy        0.939013   0.948879\n",
              "precision       0.875000   0.950562\n",
              "recall          0.664557   0.948879\n",
              "f1_score        0.755396   0.944417"
            ]
          },
          "metadata": {},
          "execution_count": 68
        }
      ],
      "source": [
        "comparison['Scratch Model'] = [cosine_results[0]] + cosine_results[2:]\n",
        "sklearn_l = [accuracy]\n",
        "sklearn_l.extend(precision_recall_fscore_support(category_test, predicted, average='weighted')[:-1])\n",
        "comparison['SkLearn\\'s'] = sklearn_l\n",
        "comparison.index =  ['accuracy', 'precision', 'recall', 'f1_score']\n",
        "comparison"
      ]
    },
    {
      "cell_type": "markdown",
      "id": "64987575",
      "metadata": {
        "id": "64987575"
      },
      "source": [
        "***What is the time complexity of training using KNN classifier?***"
      ]
    },
    {
      "cell_type": "markdown",
      "id": "2770c106",
      "metadata": {
        "id": "2770c106"
      },
      "source": [
        "O(nd), where n is size of training data set and d is distance metric time"
      ]
    },
    {
      "cell_type": "markdown",
      "id": "fad1f345",
      "metadata": {
        "id": "fad1f345"
      },
      "source": [
        "***What is the time complexity while testing? Is KNN a linear classifier or can it learn any boundary?***"
      ]
    },
    {
      "cell_type": "raw",
      "id": "0daaa324",
      "metadata": {
        "id": "0daaa324"
      },
      "source": [
        "Time complexity of SKLearn's KNN classifier is O(n) because it uses sparse matrix, while our scratch model's time complexity is O(nk), where k is the no of unique words.\n",
        "\n",
        "KNN is a Non-Linear Classifier and can learn any boundary."
      ]
    },
    {
      "cell_type": "code",
      "execution_count": 68,
      "id": "fe7f38b6",
      "metadata": {
        "id": "fe7f38b6"
      },
      "outputs": [],
      "source": [
        ""
      ]
    }
  ],
  "metadata": {
    "kernelspec": {
      "display_name": "Python 3 (ipykernel)",
      "language": "python",
      "name": "python3"
    },
    "language_info": {
      "codemirror_mode": {
        "name": "ipython",
        "version": 3
      },
      "file_extension": ".py",
      "mimetype": "text/x-python",
      "name": "python",
      "nbconvert_exporter": "python",
      "pygments_lexer": "ipython3",
      "version": "3.9.7"
    },
    "colab": {
      "name": "2021201074_Assignment1_Question3.ipynb",
      "provenance": [],
      "collapsed_sections": []
    }
  },
  "nbformat": 4,
  "nbformat_minor": 5
}