{
  "cells": [
    {
      "cell_type": "code",
      "execution_count": null,
      "metadata": {
        "id": "44b2bd74"
      },
      "outputs": [],
      "source": [
        "import numpy as np\n",
        "import pandas as pd\n",
        "from heapq import heapify, heappush, heappop\n",
        "from sklearn.decomposition import TruncatedSVD as tsvd"
      ],
      "id": "44b2bd74"
    },
    {
      "cell_type": "code",
      "execution_count": null,
      "metadata": {
        "id": "dd20da5c"
      },
      "outputs": [],
      "source": [
        "config = pd.read_csv('config.csv').iloc[0]\n",
        "\n",
        "user = int(config['id'])\n",
        "k_value = int(config['k'])"
      ],
      "id": "dd20da5c"
    },
    {
      "cell_type": "code",
      "execution_count": null,
      "metadata": {
        "id": "hbRP28ek_Lox"
      },
      "outputs": [],
      "source": [
        "data_df = pd.read_csv(config['dataset_file'], delimiter=' ')\n",
        "data_df.columns = ['user_ids', 'image_ids', 'timpstamp']"
      ],
      "id": "hbRP28ek_Lox"
    },
    {
      "cell_type": "code",
      "execution_count": null,
      "metadata": {
        "id": "1uX35IL0KQ1V"
      },
      "outputs": [],
      "source": [
        "all_images = set()\n",
        "user_likes = dict()"
      ],
      "id": "1uX35IL0KQ1V"
    },
    {
      "cell_type": "code",
      "execution_count": null,
      "metadata": {
        "id": "Uyz3aS0lJt6R"
      },
      "outputs": [],
      "source": [
        "usr = []\n",
        "imgs = []\n",
        "vals = []\n",
        "for row in data_df.values:\n",
        "    # usr.append(user_ids_index[row[0]])\n",
        "    # imgs.append(image_ids_index[row[1]])\n",
        "    # vals.append(1)\n",
        "    if row[0] not in user_likes:\n",
        "        user_likes[row[0]] = set()\n",
        "    user_likes[row[0]].add(row[1])\n",
        "    all_images.add(row[1])"
      ],
      "id": "Uyz3aS0lJt6R"
    },
    {
      "cell_type": "code",
      "source": [
        "all_users = list(user_likes.keys())"
      ],
      "metadata": {
        "id": "QCBjRI2J2Vm7"
      },
      "id": "QCBjRI2J2Vm7",
      "execution_count": null,
      "outputs": []
    },
    {
      "cell_type": "code",
      "execution_count": null,
      "metadata": {
        "id": "ZhtPYjCN_bf3"
      },
      "outputs": [],
      "source": [
        "# user_ids = data_df['user_ids'].unique()\n",
        "user_ids_index = dict()\n",
        "# image_ids = data_df['image_ids'].unique()\n",
        "image_ids_index = dict()"
      ],
      "id": "ZhtPYjCN_bf3"
    },
    {
      "cell_type": "code",
      "execution_count": null,
      "metadata": {
        "id": "cen6g9F2JZB0"
      },
      "outputs": [],
      "source": [
        "i = 0\n",
        "for user_id in user_likes.keys():\n",
        "    user_ids_index[user_id] = i\n",
        "    i += 1\n",
        "\n",
        "i = 0\n",
        "for img_id in all_images:\n",
        "    image_ids_index[img_id] = i\n",
        "    i += 1"
      ],
      "id": "cen6g9F2JZB0"
    },
    {
      "cell_type": "code",
      "source": [
        "for row in data_df.values:\n",
        "    usr.append(user_ids_index[row[0]])\n",
        "    imgs.append(image_ids_index[row[1]])\n",
        "    vals.append(1)\n"
      ],
      "metadata": {
        "id": "OoqG-Vpp3n84"
      },
      "id": "OoqG-Vpp3n84",
      "execution_count": null,
      "outputs": []
    },
    {
      "cell_type": "code",
      "execution_count": null,
      "metadata": {
        "id": "qVznSwscMO3S"
      },
      "outputs": [],
      "source": [
        "from scipy.sparse import csr_matrix"
      ],
      "id": "qVznSwscMO3S"
    },
    {
      "cell_type": "code",
      "execution_count": null,
      "metadata": {
        "id": "ngaywP0tM_k1"
      },
      "outputs": [],
      "source": [
        "sparse_matrix = csr_matrix((vals, (usr, imgs)))"
      ],
      "id": "ngaywP0tM_k1"
    },
    {
      "cell_type": "code",
      "execution_count": null,
      "metadata": {
        "colab": {
          "base_uri": "https://localhost:8080/"
        },
        "id": "Qbdko2C6NKqk",
        "outputId": "4ab44055-cde4-48df-d85f-978c384e1870"
      },
      "outputs": [
        {
          "output_type": "execute_result",
          "data": {
            "text/plain": [
              "(63497, 178787)"
            ]
          },
          "metadata": {},
          "execution_count": 78
        }
      ],
      "source": [
        "sparse_matrix.shape"
      ],
      "id": "Qbdko2C6NKqk"
    },
    {
      "cell_type": "markdown",
      "source": [
        "no of components value = 1000, value found after experimentation with different values\n",
        "\n",
        "random_state = 17, any value to get the same result"
      ],
      "metadata": {
        "id": "nKZ4CAZVDLov"
      },
      "id": "nKZ4CAZVDLov"
    },
    {
      "cell_type": "code",
      "execution_count": null,
      "metadata": {
        "collapsed": true,
        "id": "3fd63cd7"
      },
      "outputs": [],
      "source": [
        "svd = tsvd(n_components=1000, random_state=17)\n",
        "matrix = svd.fit_transform(sparse_matrix)"
      ],
      "id": "3fd63cd7"
    },
    {
      "cell_type": "code",
      "execution_count": null,
      "metadata": {
        "id": "IEagy762lOh9"
      },
      "outputs": [],
      "source": [
        "from numpy.linalg import norm\n",
        "\n",
        "def cosine_distance(a, b):\n",
        "    return np.dot(a, b)/(norm(a)*norm(b))"
      ],
      "id": "IEagy762lOh9"
    },
    {
      "cell_type": "code",
      "execution_count": null,
      "metadata": {
        "id": "084ae4d0"
      },
      "outputs": [],
      "source": [
        "def neighbors(user, k_value):\n",
        "    global user_likes\n",
        "    user_img_id_set = user_likes[user]\n",
        "    jcc_heap = []\n",
        "    corr_heap = []\n",
        "    heapify(jcc_heap)\n",
        "    heapify(corr_heap)\n",
        "    \n",
        "    for some_user,img_id_set in user_likes.items():\n",
        "        if some_user == user:\n",
        "            continue\n",
        "        #calculating jaccard index\n",
        "        jcc_ind = len(img_id_set.intersection(user_img_id_set))/len(img_id_set.union(user_img_id_set))\n",
        "        heappush(jcc_heap, (jcc_ind, some_user))\n",
        "        # no_of_common_img = len(img_id_set.intersection(user_img_id_set))\n",
        "        # heappush(jcc_heap, (no_of_common_img, some_user))\n",
        "        if(len(jcc_heap) > k_value):\n",
        "            heappop(jcc_heap)\n",
        "    \n",
        "    user_idx = user_ids_index[user]\n",
        "    user_matrix = matrix[user_idx]\n",
        "    for i in range(len(matrix)):\n",
        "        if(i == user_idx):\n",
        "            continue\n",
        "        heappush(corr_heap, (cosine_distance(user_matrix, matrix[i]), i))\n",
        "        if(len(corr_heap) > k_value+3):\n",
        "            heappop(corr_heap)\n",
        "    jcc_users = [user_ for val, user_ in sorted(jcc_heap, reverse=True)]\n",
        "    svd_min_users = [all_users[i] for val, i in corr_heap]\n",
        "    print(jcc_users)\n",
        "    print('No. of common users between jaccard method and correlation vector method')\n",
        "    print(set(jcc_users).intersection(set(svd_min_users)))\n",
        "\n",
        "    return [all_users[t[1]] for t in sorted(corr_heap, key=lambda x: -x[0])]"
      ],
      "id": "084ae4d0"
    },
    {
      "cell_type": "code",
      "execution_count": null,
      "metadata": {
        "colab": {
          "base_uri": "https://localhost:8080/"
        },
        "id": "49d3d101",
        "outputId": "eef98f51-6fe7-44e0-ad0d-be36aaac5f48"
      },
      "outputs": [
        {
          "output_type": "stream",
          "name": "stdout",
          "text": [
            "[1442856, 1762419, 2840102, 3678210, 3621636]\n",
            "No. of common users between jaccard method and correlation vector method\n",
            "set()\n",
            "5\n"
          ]
        }
      ],
      "source": [
        "outFile = open(config['output_file'], 'w')\n",
        "\n",
        "sol_item_set = set()\n",
        "no_users = 0\n",
        "for user_id in neighbors(user, k_value):\n",
        "    new_user = True\n",
        "    for item_id in user_likes[user_id]:\n",
        "        if item_id not in user_likes[user] and item_id not in sol_item_set:\n",
        "            if new_user:\n",
        "                no_users += 1\n",
        "                new_user = False\n",
        "            if no_users > k_value:\n",
        "                break\n",
        "            sol_item_set.add(item_id)\n",
        "            outFile.write(str(item_id) + ' ' + str(user_id) + '\\n')\n",
        "print(no_users)\n",
        "outFile.close()"
      ],
      "id": "49d3d101"
    }
  ],
  "metadata": {
    "colab": {
      "collapsed_sections": [],
      "name": "2021201074_Assignment1_Question1.ipynb",
      "provenance": []
    },
    "kernelspec": {
      "display_name": "Python 3 (ipykernel)",
      "language": "python",
      "name": "python3"
    },
    "language_info": {
      "codemirror_mode": {
        "name": "ipython",
        "version": 3
      },
      "file_extension": ".py",
      "mimetype": "text/x-python",
      "name": "python",
      "nbconvert_exporter": "python",
      "pygments_lexer": "ipython3",
      "version": "3.9.7"
    }
  },
  "nbformat": 4,
  "nbformat_minor": 5
}